{
  "nbformat": 4,
  "nbformat_minor": 0,
  "metadata": {
    "kernelspec": {
      "display_name": "Python 3",
      "language": "python",
      "name": "python3"
    },
    "language_info": {
      "codemirror_mode": {
        "name": "ipython",
        "version": 3
      },
      "file_extension": ".py",
      "mimetype": "text/x-python",
      "name": "python",
      "nbconvert_exporter": "python",
      "pygments_lexer": "ipython3",
      "version": "3.7.4"
    },
    "colab": {
      "name": "fraud-detection.ipynb",
      "provenance": [],
      "machine_shape": "hm"
    }
  },
  "cells": [
    {
      "cell_type": "markdown",
      "metadata": {
        "id": "Dgpyzy4QTugv",
        "colab_type": "text"
      },
      "source": [
        "IEEE Fraud Detection"
      ]
    },
    {
      "cell_type": "markdown",
      "metadata": {
        "id": "WT_TXt8yTug4",
        "colab_type": "text"
      },
      "source": [
        "## Part 1 - Fraudulent vs Non-Fraudulent Transaction"
      ]
    },
    {
      "cell_type": "code",
      "metadata": {
        "id": "Xix7-QPFTug-",
        "colab_type": "code",
        "outputId": "5c12f2e7-63f6-4315-dee6-c6d1b5261404",
        "colab": {
          "resources": {
            "http://localhost:8080/nbextensions/google.colab/files.js": {
              "data": "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",
              "ok": true,
              "headers": [
                [
                  "content-type",
                  "application/javascript"
                ]
              ],
              "status": 200,
              "status_text": ""
            }
          },
          "base_uri": "https://localhost:8080/",
          "height": 179
        }
      },
      "source": [
        "# TODO: code and runtime results\n",
        "from google.colab import files\n",
        "files.upload()\n",
        "!pip install -q kaggle\n",
        "!mkdir -p ~/.kaggle\n",
        "!cp kaggle.json ~/.kaggle/\n",
        "!chmod 600 ~/.kaggle/kaggle.json\n",
        "!kaggle competitions download -c ieee-fraud-detection"
      ],
      "execution_count": 0,
      "outputs": [
        {
          "output_type": "display_data",
          "data": {
            "text/html": [
              "\n",
              "     <input type=\"file\" id=\"files-e4db9500-67de-4efc-ae49-787eb337242b\" name=\"files[]\" multiple disabled />\n",
              "     <output id=\"result-e4db9500-67de-4efc-ae49-787eb337242b\">\n",
              "      Upload widget is only available when the cell has been executed in the\n",
              "      current browser session. Please rerun this cell to enable.\n",
              "      </output>\n",
              "      <script src=\"/nbextensions/google.colab/files.js\"></script> "
            ],
            "text/plain": [
              "<IPython.core.display.HTML object>"
            ]
          },
          "metadata": {
            "tags": []
          }
        },
        {
          "output_type": "stream",
          "text": [
            "Saving kaggle.json to kaggle (2).json\n",
            "Warning: Looks like you're using an outdated API Version, please consider updating (server 1.5.6 / client 1.5.4)\n",
            "train_transaction.csv.zip: Skipping, found more recently modified local copy (use --force to force download)\n",
            "train_identity.csv.zip: Skipping, found more recently modified local copy (use --force to force download)\n",
            "test_transaction.csv.zip: Skipping, found more recently modified local copy (use --force to force download)\n",
            "test_identity.csv.zip: Skipping, found more recently modified local copy (use --force to force download)\n",
            "sample_submission.csv.zip: Skipping, found more recently modified local copy (use --force to force download)\n"
          ],
          "name": "stdout"
        }
      ]
    },
    {
      "cell_type": "markdown",
      "metadata": {
        "id": "t8-MMiu6TuhJ",
        "colab_type": "text"
      },
      "source": [
        "Write your answer here"
      ]
    },
    {
      "cell_type": "code",
      "metadata": {
        "id": "3cwEgkqmsHos",
        "colab_type": "code",
        "outputId": "2f4d77e3-acb6-4117-fc69-728a0aa3cebd",
        "colab": {
          "base_uri": "https://localhost:8080/",
          "height": 361
        }
      },
      "source": [
        "import pandas as pd\n",
        "transactions = pd.read_csv('train_transaction.csv.zip')\n",
        "transactions.shape\n",
        "identities = pd.read_csv('train_identity.csv.zip')\n",
        "identities.shape\n",
        "identities.head()"
      ],
      "execution_count": 0,
      "outputs": [
        {
          "output_type": "execute_result",
          "data": {
            "text/html": [
              "<div>\n",
              "<style scoped>\n",
              "    .dataframe tbody tr th:only-of-type {\n",
              "        vertical-align: middle;\n",
              "    }\n",
              "\n",
              "    .dataframe tbody tr th {\n",
              "        vertical-align: top;\n",
              "    }\n",
              "\n",
              "    .dataframe thead th {\n",
              "        text-align: right;\n",
              "    }\n",
              "</style>\n",
              "<table border=\"1\" class=\"dataframe\">\n",
              "  <thead>\n",
              "    <tr style=\"text-align: right;\">\n",
              "      <th></th>\n",
              "      <th>TransactionID</th>\n",
              "      <th>id_01</th>\n",
              "      <th>id_02</th>\n",
              "      <th>id_03</th>\n",
              "      <th>id_04</th>\n",
              "      <th>id_05</th>\n",
              "      <th>id_06</th>\n",
              "      <th>id_07</th>\n",
              "      <th>id_08</th>\n",
              "      <th>id_09</th>\n",
              "      <th>id_10</th>\n",
              "      <th>id_11</th>\n",
              "      <th>id_12</th>\n",
              "      <th>id_13</th>\n",
              "      <th>id_14</th>\n",
              "      <th>id_15</th>\n",
              "      <th>id_16</th>\n",
              "      <th>id_17</th>\n",
              "      <th>id_18</th>\n",
              "      <th>id_19</th>\n",
              "      <th>id_20</th>\n",
              "      <th>id_21</th>\n",
              "      <th>id_22</th>\n",
              "      <th>id_23</th>\n",
              "      <th>id_24</th>\n",
              "      <th>id_25</th>\n",
              "      <th>id_26</th>\n",
              "      <th>id_27</th>\n",
              "      <th>id_28</th>\n",
              "      <th>id_29</th>\n",
              "      <th>id_30</th>\n",
              "      <th>id_31</th>\n",
              "      <th>id_32</th>\n",
              "      <th>id_33</th>\n",
              "      <th>id_34</th>\n",
              "      <th>id_35</th>\n",
              "      <th>id_36</th>\n",
              "      <th>id_37</th>\n",
              "      <th>id_38</th>\n",
              "      <th>DeviceType</th>\n",
              "      <th>DeviceInfo</th>\n",
              "    </tr>\n",
              "  </thead>\n",
              "  <tbody>\n",
              "    <tr>\n",
              "      <th>0</th>\n",
              "      <td>2987004</td>\n",
              "      <td>0.0</td>\n",
              "      <td>70787.0</td>\n",
              "      <td>NaN</td>\n",
              "      <td>NaN</td>\n",
              "      <td>NaN</td>\n",
              "      <td>NaN</td>\n",
              "      <td>NaN</td>\n",
              "      <td>NaN</td>\n",
              "      <td>NaN</td>\n",
              "      <td>NaN</td>\n",
              "      <td>100.0</td>\n",
              "      <td>NotFound</td>\n",
              "      <td>NaN</td>\n",
              "      <td>-480.0</td>\n",
              "      <td>New</td>\n",
              "      <td>NotFound</td>\n",
              "      <td>166.0</td>\n",
              "      <td>NaN</td>\n",
              "      <td>542.0</td>\n",
              "      <td>144.0</td>\n",
              "      <td>NaN</td>\n",
              "      <td>NaN</td>\n",
              "      <td>NaN</td>\n",
              "      <td>NaN</td>\n",
              "      <td>NaN</td>\n",
              "      <td>NaN</td>\n",
              "      <td>NaN</td>\n",
              "      <td>New</td>\n",
              "      <td>NotFound</td>\n",
              "      <td>Android 7.0</td>\n",
              "      <td>samsung browser 6.2</td>\n",
              "      <td>32.0</td>\n",
              "      <td>2220x1080</td>\n",
              "      <td>match_status:2</td>\n",
              "      <td>T</td>\n",
              "      <td>F</td>\n",
              "      <td>T</td>\n",
              "      <td>T</td>\n",
              "      <td>mobile</td>\n",
              "      <td>SAMSUNG SM-G892A Build/NRD90M</td>\n",
              "    </tr>\n",
              "    <tr>\n",
              "      <th>1</th>\n",
              "      <td>2987008</td>\n",
              "      <td>-5.0</td>\n",
              "      <td>98945.0</td>\n",
              "      <td>NaN</td>\n",
              "      <td>NaN</td>\n",
              "      <td>0.0</td>\n",
              "      <td>-5.0</td>\n",
              "      <td>NaN</td>\n",
              "      <td>NaN</td>\n",
              "      <td>NaN</td>\n",
              "      <td>NaN</td>\n",
              "      <td>100.0</td>\n",
              "      <td>NotFound</td>\n",
              "      <td>49.0</td>\n",
              "      <td>-300.0</td>\n",
              "      <td>New</td>\n",
              "      <td>NotFound</td>\n",
              "      <td>166.0</td>\n",
              "      <td>NaN</td>\n",
              "      <td>621.0</td>\n",
              "      <td>500.0</td>\n",
              "      <td>NaN</td>\n",
              "      <td>NaN</td>\n",
              "      <td>NaN</td>\n",
              "      <td>NaN</td>\n",
              "      <td>NaN</td>\n",
              "      <td>NaN</td>\n",
              "      <td>NaN</td>\n",
              "      <td>New</td>\n",
              "      <td>NotFound</td>\n",
              "      <td>iOS 11.1.2</td>\n",
              "      <td>mobile safari 11.0</td>\n",
              "      <td>32.0</td>\n",
              "      <td>1334x750</td>\n",
              "      <td>match_status:1</td>\n",
              "      <td>T</td>\n",
              "      <td>F</td>\n",
              "      <td>F</td>\n",
              "      <td>T</td>\n",
              "      <td>mobile</td>\n",
              "      <td>iOS Device</td>\n",
              "    </tr>\n",
              "    <tr>\n",
              "      <th>2</th>\n",
              "      <td>2987010</td>\n",
              "      <td>-5.0</td>\n",
              "      <td>191631.0</td>\n",
              "      <td>0.0</td>\n",
              "      <td>0.0</td>\n",
              "      <td>0.0</td>\n",
              "      <td>0.0</td>\n",
              "      <td>NaN</td>\n",
              "      <td>NaN</td>\n",
              "      <td>0.0</td>\n",
              "      <td>0.0</td>\n",
              "      <td>100.0</td>\n",
              "      <td>NotFound</td>\n",
              "      <td>52.0</td>\n",
              "      <td>NaN</td>\n",
              "      <td>Found</td>\n",
              "      <td>Found</td>\n",
              "      <td>121.0</td>\n",
              "      <td>NaN</td>\n",
              "      <td>410.0</td>\n",
              "      <td>142.0</td>\n",
              "      <td>NaN</td>\n",
              "      <td>NaN</td>\n",
              "      <td>NaN</td>\n",
              "      <td>NaN</td>\n",
              "      <td>NaN</td>\n",
              "      <td>NaN</td>\n",
              "      <td>NaN</td>\n",
              "      <td>Found</td>\n",
              "      <td>Found</td>\n",
              "      <td>NaN</td>\n",
              "      <td>chrome 62.0</td>\n",
              "      <td>NaN</td>\n",
              "      <td>NaN</td>\n",
              "      <td>NaN</td>\n",
              "      <td>F</td>\n",
              "      <td>F</td>\n",
              "      <td>T</td>\n",
              "      <td>T</td>\n",
              "      <td>desktop</td>\n",
              "      <td>Windows</td>\n",
              "    </tr>\n",
              "    <tr>\n",
              "      <th>3</th>\n",
              "      <td>2987011</td>\n",
              "      <td>-5.0</td>\n",
              "      <td>221832.0</td>\n",
              "      <td>NaN</td>\n",
              "      <td>NaN</td>\n",
              "      <td>0.0</td>\n",
              "      <td>-6.0</td>\n",
              "      <td>NaN</td>\n",
              "      <td>NaN</td>\n",
              "      <td>NaN</td>\n",
              "      <td>NaN</td>\n",
              "      <td>100.0</td>\n",
              "      <td>NotFound</td>\n",
              "      <td>52.0</td>\n",
              "      <td>NaN</td>\n",
              "      <td>New</td>\n",
              "      <td>NotFound</td>\n",
              "      <td>225.0</td>\n",
              "      <td>NaN</td>\n",
              "      <td>176.0</td>\n",
              "      <td>507.0</td>\n",
              "      <td>NaN</td>\n",
              "      <td>NaN</td>\n",
              "      <td>NaN</td>\n",
              "      <td>NaN</td>\n",
              "      <td>NaN</td>\n",
              "      <td>NaN</td>\n",
              "      <td>NaN</td>\n",
              "      <td>New</td>\n",
              "      <td>NotFound</td>\n",
              "      <td>NaN</td>\n",
              "      <td>chrome 62.0</td>\n",
              "      <td>NaN</td>\n",
              "      <td>NaN</td>\n",
              "      <td>NaN</td>\n",
              "      <td>F</td>\n",
              "      <td>F</td>\n",
              "      <td>T</td>\n",
              "      <td>T</td>\n",
              "      <td>desktop</td>\n",
              "      <td>NaN</td>\n",
              "    </tr>\n",
              "    <tr>\n",
              "      <th>4</th>\n",
              "      <td>2987016</td>\n",
              "      <td>0.0</td>\n",
              "      <td>7460.0</td>\n",
              "      <td>0.0</td>\n",
              "      <td>0.0</td>\n",
              "      <td>1.0</td>\n",
              "      <td>0.0</td>\n",
              "      <td>NaN</td>\n",
              "      <td>NaN</td>\n",
              "      <td>0.0</td>\n",
              "      <td>0.0</td>\n",
              "      <td>100.0</td>\n",
              "      <td>NotFound</td>\n",
              "      <td>NaN</td>\n",
              "      <td>-300.0</td>\n",
              "      <td>Found</td>\n",
              "      <td>Found</td>\n",
              "      <td>166.0</td>\n",
              "      <td>15.0</td>\n",
              "      <td>529.0</td>\n",
              "      <td>575.0</td>\n",
              "      <td>NaN</td>\n",
              "      <td>NaN</td>\n",
              "      <td>NaN</td>\n",
              "      <td>NaN</td>\n",
              "      <td>NaN</td>\n",
              "      <td>NaN</td>\n",
              "      <td>NaN</td>\n",
              "      <td>Found</td>\n",
              "      <td>Found</td>\n",
              "      <td>Mac OS X 10_11_6</td>\n",
              "      <td>chrome 62.0</td>\n",
              "      <td>24.0</td>\n",
              "      <td>1280x800</td>\n",
              "      <td>match_status:2</td>\n",
              "      <td>T</td>\n",
              "      <td>F</td>\n",
              "      <td>T</td>\n",
              "      <td>T</td>\n",
              "      <td>desktop</td>\n",
              "      <td>MacOS</td>\n",
              "    </tr>\n",
              "  </tbody>\n",
              "</table>\n",
              "</div>"
            ],
            "text/plain": [
              "   TransactionID  id_01  ...  DeviceType                     DeviceInfo\n",
              "0        2987004    0.0  ...      mobile  SAMSUNG SM-G892A Build/NRD90M\n",
              "1        2987008   -5.0  ...      mobile                     iOS Device\n",
              "2        2987010   -5.0  ...     desktop                        Windows\n",
              "3        2987011   -5.0  ...     desktop                            NaN\n",
              "4        2987016    0.0  ...     desktop                          MacOS\n",
              "\n",
              "[5 rows x 41 columns]"
            ]
          },
          "metadata": {
            "tags": []
          },
          "execution_count": 4
        }
      ]
    },
    {
      "cell_type": "code",
      "metadata": {
        "id": "Fq_BRo5qvAsf",
        "colab_type": "code",
        "colab": {}
      },
      "source": [
        "fraudTransactions = transactions[transactions['isFraud'] == 1]\n",
        "nonFraudTransactions = transactions[transactions['isFraud'] == 0]"
      ],
      "execution_count": 0,
      "outputs": []
    },
    {
      "cell_type": "code",
      "metadata": {
        "id": "49WKL_waxi7M",
        "colab_type": "code",
        "outputId": "8cc51f57-99c6-4fb3-dd65-1604fb5eef01",
        "colab": {
          "base_uri": "https://localhost:8080/",
          "height": 1000
        }
      },
      "source": [
        "fraudTransactions1 = fraudTransactions[['TransactionID','TransactionDT','TransactionAmt','ProductCD','card4','card6',\n",
        "                                        'P_emaildomain','R_emaildomain','addr1','addr2','dist1','dist2']]\n",
        "identitiesWithDTDI = identities[['TransactionID','DeviceType', 'DeviceInfo']]\n",
        "fraudTransactions1WithIdentities = pd.merge(fraudTransactions1, identitiesWithDTDI, on='TransactionID')\n",
        "\n",
        "nonFraudTransactions1 = nonFraudTransactions[['TransactionID','TransactionDT','TransactionAmt','ProductCD','card4','card6',\n",
        "                                        'P_emaildomain','R_emaildomain','addr1','addr2','dist1','dist2']]\n",
        "nonFraudTransactions1WithIdentities = pd.merge(nonFraudTransactions1, identitiesWithDTDI, on='TransactionID')\n",
        "fraudTransactions1WithIdentities.describe()\n",
        "fraudTransactions1WithIdentities.head()\n",
        "\n",
        "fraudTransactions1.shape\n",
        "nonFraudTransactions1.shape\n",
        "nonFraudTransactions1WithIdentities.shape\n",
        "fraudTransactions1WithIdentities['DeviceInfo'].value_counts()"
      ],
      "execution_count": 0,
      "outputs": [
        {
          "output_type": "execute_result",
          "data": {
            "text/plain": [
              "Windows                                   3121\n",
              "iOS Device                                1240\n",
              "MacOS                                      278\n",
              "hi6210sft Build/MRA58K                     180\n",
              "SM-A300H Build/LRX22G                      169\n",
              "rv:57.0                                    103\n",
              "Trident/7.0                                 96\n",
              "rv:11.0                                     76\n",
              "LG-D320 Build/KOT49I.V10a                   61\n",
              "SM-J700M Build/MMB29K                       60\n",
              "SM-J320M Build/LMY47V                       57\n",
              "CRO-L03 Build/HUAWEICRO-L03                 51\n",
              "KFFOWI Build/LVY48F                         51\n",
              "rv:58.0                                     49\n",
              "SM-A510M Build/MMB29K                       45\n",
              "rv:59.0                                     44\n",
              "Moto G (4) Build/NPJ25.93-14.7              40\n",
              "SM-J500M Build/LMY48B                       39\n",
              "SM-G920P Build/NRD90M                       39\n",
              "SM-G610M Build/MMB29K                       37\n",
              "Moto G (5) Plus Build/NPNS25.137-15-11      35\n",
              "VS5012 Build/NRD90M                         34\n",
              "SM-G950F Build/NRD90M                       34\n",
              "SM-G531H Build/LMY48B                       33\n",
              "SM-G955U Build/NRD90M                       33\n",
              "Hisense L675 Build/MRA58K                   32\n",
              "Moto E (4) Plus Build/NMA26.42-69           32\n",
              "SM-G935F Build/NRD90M                       31\n",
              "Moto Z2 Play Build/NPSS26.118-19-14         30\n",
              "SM-J701M Build/NRD90M                       30\n",
              "                                          ... \n",
              "M4 SS4450 Build/MRA58K                       1\n",
              "SAMSUNG SM-G925P Build/MMB29K                1\n",
              "Beat                                         1\n",
              "SM-N950U Build/R16NW                         1\n",
              "SAMSUNG SM-J730GM Build/NRD90M               1\n",
              "LG-SP320                                     1\n",
              "LG-M327 Build/NRD90U                         1\n",
              "SM-T530                                      1\n",
              "rv:45.0                                      1\n",
              "MotoG3 Build/MPI24.65-33.1-2                 1\n",
              "rv:61.0                                      1\n",
              "Moto G (5) Plus Build/NPNS25.137-92-8        1\n",
              "SM-T285M                                     1\n",
              "SAMSUNG SM-G935A Build/NRD90M                1\n",
              "ALCATEL                                      1\n",
              "HUAWEI RIO-L03 Build/HUAWEIRIO-L03           1\n",
              "SAMSUNG SM-G930F Build/NRD90M                1\n",
              "LG-H420 Build/LRX21Y                         1\n",
              "4047G Build/NRD90M                           1\n",
              "SM-G900F Build/KOT49H                        1\n",
              "P5526A Build/NRD90M                          1\n",
              "SAMSUNG SM-N900W8 Build/LRX21V               1\n",
              "iPhone                                       1\n",
              "E2104                                        1\n",
              "H1711 Build/HUAWEIH1711                      1\n",
              "LG-H542 Build/MRA58K                         1\n",
              "AERIAL                                       1\n",
              "A5002                                        1\n",
              "LG-H870 Build/NRD90U                         1\n",
              "VTR-L09 Build/HUAWEIVTR-L09                  1\n",
              "Name: DeviceInfo, Length: 420, dtype: int64"
            ]
          },
          "metadata": {
            "tags": []
          },
          "execution_count": 13
        }
      ]
    },
    {
      "cell_type": "markdown",
      "metadata": {
        "id": "llLMRLnaAgPa",
        "colab_type": "text"
      },
      "source": [
        "It looks like the most number of fraudulent transactions have been done through a Windows PC, with 3121 transactions.\n",
        "\n",
        "iOS comes a distant 2nd with around 1200 fraudulent transactions."
      ]
    },
    {
      "cell_type": "code",
      "metadata": {
        "id": "ylwCE9KFA-l1",
        "colab_type": "code",
        "outputId": "e835025b-6ee6-4893-f6ac-990fc3e07981",
        "colab": {
          "base_uri": "https://localhost:8080/",
          "height": 1000
        }
      },
      "source": [
        "fraudTransactions1['TransactionAmt'].value_counts()"
      ],
      "execution_count": 0,
      "outputs": [
        {
          "output_type": "execute_result",
          "data": {
            "text/plain": [
              "117.000     719\n",
              "59.000      646\n",
              "150.000     561\n",
              "100.000     523\n",
              "49.000      469\n",
              "200.000     423\n",
              "226.000     390\n",
              "300.000     355\n",
              "50.000      353\n",
              "171.000     272\n",
              "77.000      266\n",
              "39.000      242\n",
              "335.000     234\n",
              "445.000     231\n",
              "107.950     221\n",
              "97.000      213\n",
              "250.000     205\n",
              "29.000      201\n",
              "554.000     179\n",
              "994.000     175\n",
              "92.000      145\n",
              "141.000     143\n",
              "500.000     141\n",
              "34.000      140\n",
              "15.000      137\n",
              "280.000     135\n",
              "25.000      131\n",
              "75.000      128\n",
              "87.000      113\n",
              "54.000      106\n",
              "           ... \n",
              "191.913       1\n",
              "36.438        1\n",
              "17.952        1\n",
              "114.230       1\n",
              "355.440       1\n",
              "58.898        1\n",
              "177.985       1\n",
              "9.591         1\n",
              "244.950       1\n",
              "39.025        1\n",
              "11.435        1\n",
              "295.596       1\n",
              "794.950       1\n",
              "33.490        1\n",
              "385.990       1\n",
              "93.818        1\n",
              "7.255         1\n",
              "15.741        1\n",
              "106.500       1\n",
              "39.178        1\n",
              "570.000       1\n",
              "3076.970      1\n",
              "109.127       1\n",
              "28.579        1\n",
              "17.082        1\n",
              "73.838        1\n",
              "117.456       1\n",
              "46.786        1\n",
              "355.000       1\n",
              "13.381        1\n",
              "Name: TransactionAmt, Length: 2515, dtype: int64"
            ]
          },
          "metadata": {
            "tags": []
          },
          "execution_count": 14
        }
      ]
    },
    {
      "cell_type": "markdown",
      "metadata": {
        "id": "wnpOlZaeBCOU",
        "colab_type": "text"
      },
      "source": [
        "Here we get a very **interesting insight**. The** maximum number** of fraudulent transactions has been done for a **product with a price tag of 117**. It means that it's **easy** to do a fraudulent transaction for a **particular product**.\n",
        "\n",
        "Same is the case for **some other items** with a particular price tag.\n",
        "\n",
        "We perform this operation **only on the Transaction table** as when we join the table with the Identity table, the number of rows **reduces to around 11k from 21k**, which I feel is a significant reduction in the sample size."
      ]
    },
    {
      "cell_type": "code",
      "metadata": {
        "id": "FSkN8D3OBu6z",
        "colab_type": "code",
        "outputId": "9bcf6059-1554-43c5-c415-4843ecab0235",
        "colab": {
          "base_uri": "https://localhost:8080/",
          "height": 121
        }
      },
      "source": [
        "fraudTransactions1['ProductCD'].value_counts()"
      ],
      "execution_count": 0,
      "outputs": [
        {
          "output_type": "execute_result",
          "data": {
            "text/plain": [
              "W    8969\n",
              "C    8008\n",
              "H    1574\n",
              "R    1426\n",
              "S     686\n",
              "Name: ProductCD, dtype: int64"
            ]
          },
          "metadata": {
            "tags": []
          },
          "execution_count": 59
        }
      ]
    },
    {
      "cell_type": "code",
      "metadata": {
        "id": "ZrLXIKkkGwPr",
        "colab_type": "code",
        "outputId": "dbf3f1d9-53b9-4fd9-a3c3-f19e9cde720b",
        "colab": {
          "base_uri": "https://localhost:8080/",
          "height": 104
        }
      },
      "source": [
        "fraudTransactions1['card4'].value_counts()"
      ],
      "execution_count": 0,
      "outputs": [
        {
          "output_type": "execute_result",
          "data": {
            "text/plain": [
              "visa                13373\n",
              "mastercard           6496\n",
              "discover              514\n",
              "american express      239\n",
              "Name: card4, dtype: int64"
            ]
          },
          "metadata": {
            "tags": []
          },
          "execution_count": 62
        }
      ]
    },
    {
      "cell_type": "markdown",
      "metadata": {
        "id": "P0fKZAMGIoaq",
        "colab_type": "text"
      },
      "source": [
        "When we take it as a percentage "
      ]
    },
    {
      "cell_type": "markdown",
      "metadata": {
        "id": "7tRa00_mHcbv",
        "colab_type": "text"
      },
      "source": [
        "The most fraudulent transactions have been done through the **visa** card\n",
        "\n",
        "On the second place is a distant mastercard with as many as half the transactions than that done through **visa**\n",
        "\n",
        "All the other values are too few relative to **mastercard** and **visa**"
      ]
    },
    {
      "cell_type": "code",
      "metadata": {
        "id": "AP_NkE8CJPX3",
        "colab_type": "code",
        "outputId": "d9ba3f8b-9321-4a4c-ae63-aeb9c60880e7",
        "colab": {
          "base_uri": "https://localhost:8080/",
          "height": 104
        }
      },
      "source": [
        "nonFraudTransactions1['card4'].value_counts()"
      ],
      "execution_count": 0,
      "outputs": [
        {
          "output_type": "execute_result",
          "data": {
            "text/plain": [
              "visa                371394\n",
              "mastercard          182721\n",
              "american express      8089\n",
              "discover              6137\n",
              "Name: card4, dtype: int64"
            ]
          },
          "metadata": {
            "tags": []
          },
          "execution_count": 65
        }
      ]
    },
    {
      "cell_type": "markdown",
      "metadata": {
        "id": "hVQJB_3UJS0K",
        "colab_type": "text"
      },
      "source": [
        "When we look for the percentage, \n",
        "\n",
        "*   Visa and mastercard have similar percentage of fraudulent transactions out of overall transactions. The rate is around 3 %\n",
        "*   8% of all Discover card transactions are fraudulent which is quite high for a reputed firm.\n",
        "\n",
        "*   American Express stands at around 5% \n",
        "\n",
        "\n"
      ]
    },
    {
      "cell_type": "code",
      "metadata": {
        "id": "tpfC_LHDK5bN",
        "colab_type": "code",
        "outputId": "61e29a49-4c68-451d-fd5f-057110d8796e",
        "colab": {
          "base_uri": "https://localhost:8080/",
          "height": 104
        }
      },
      "source": [
        "nonFraudTransactions1['card6'].value_counts()"
      ],
      "execution_count": 0,
      "outputs": [
        {
          "output_type": "execute_result",
          "data": {
            "text/plain": [
              "debit              429264\n",
              "credit             139036\n",
              "debit or credit        30\n",
              "charge card            15\n",
              "Name: card6, dtype: int64"
            ]
          },
          "metadata": {
            "tags": []
          },
          "execution_count": 68
        }
      ]
    },
    {
      "cell_type": "markdown",
      "metadata": {
        "id": "paNGEiDtTuhO",
        "colab_type": "text"
      },
      "source": [
        "## Part 2 - Transaction Frequency"
      ]
    },
    {
      "cell_type": "code",
      "metadata": {
        "id": "ifLJntC5NNMf",
        "colab_type": "code",
        "outputId": "034ce6e7-1a6b-43af-c9a9-03dd549e5588",
        "colab": {
          "base_uri": "https://localhost:8080/",
          "height": 405
        }
      },
      "source": [
        "trnFreq = transactions[['TransactionID', 'TransactionDT', 'addr2', 'isFraud']]\n",
        "trnFreq.head()\n",
        "trnFreq['addr2'].value_counts()\n",
        "trnFreq['TransactionDT'].value_counts()\n",
        "\n",
        "trnFreq87 = trnFreq[trnFreq['addr2'] == 87.0]\n",
        "import matplotlib.pyplot as plt\n",
        " \n",
        "import numpy as np\n",
        "def make_hour_feature(df, tname='TransactionDT'):\n",
        "\n",
        "    hours = df[tname] / (3600)        \n",
        "    encoded_hours = np.floor(hours) % 24\n",
        "    return encoded_hours\n",
        "\n",
        "trnFreq87['hours'] = make_hour_feature(trnFreq87)\n",
        "plt.plot(trnFreq87.groupby('hours').mean()['isFraud'], color='k')\n",
        "ax = plt.gca()\n",
        "ax2 = ax.twinx()\n",
        "_ = ax2.hist(trnFreq87['hours'], alpha=0.3, bins=24)\n",
        "ax.set_xlabel('Hours')\n",
        "ax.set_ylabel('Fraction of fraudulent transactions')\n",
        "\n",
        "ax2.set_ylabel('Number of transactions')\n"
      ],
      "execution_count": 0,
      "outputs": [
        {
          "output_type": "stream",
          "text": [
            "/usr/local/lib/python3.6/dist-packages/ipykernel_launcher.py:16: SettingWithCopyWarning: \n",
            "A value is trying to be set on a copy of a slice from a DataFrame.\n",
            "Try using .loc[row_indexer,col_indexer] = value instead\n",
            "\n",
            "See the caveats in the documentation: http://pandas.pydata.org/pandas-docs/stable/indexing.html#indexing-view-versus-copy\n",
            "  app.launch_new_instance()\n"
          ],
          "name": "stderr"
        },
        {
          "output_type": "execute_result",
          "data": {
            "text/plain": [
              "Text(0, 0.5, 'Number of transactions')"
            ]
          },
          "metadata": {
            "tags": []
          },
          "execution_count": 74
        },
        {
          "output_type": "display_data",
          "data": {
            "image/png": "[encoded data removed]",
            "text/plain": [
              "<Figure size 432x288 with 2 Axes>"
            ]
          },
          "metadata": {
            "tags": []
          }
        }
      ]
    },
    {
      "cell_type": "markdown",
      "metadata": {
        "id": "IaT3lLfOIlTI",
        "colab_type": "text"
      },
      "source": [
        ""
      ]
    },
    {
      "cell_type": "markdown",
      "metadata": {
        "id": "5TKL0z6Ex9Es",
        "colab_type": "text"
      },
      "source": [
        "TransactionID\n",
        "\n",
        "DeviceType (mobile/desktop/...)\n",
        "\n",
        "DeviceInfo (Windows/MacOS/…)\n",
        "\n",
        "TransactionDT (time delta from reference)\n",
        "\n",
        "TransactionAmt (amount in USD)\n",
        "\n",
        "ProductCD (product code - W/C/H/R/...)\n",
        "\n",
        "card4 (card issuer)\n",
        "\n",
        "card6 (debit/credit)\n",
        "\n",
        "P_emaildomain (purchaser email)\n",
        "\n",
        "R_emaildomain (recipient email)\n",
        "\n",
        "addr1 / addr2 (billing region / billing country)\n",
        "\n",
        "dist1 / dist2 (some form of distance - address, zip code, IP, phone, …)\n"
      ]
    },
    {
      "cell_type": "code",
      "metadata": {
        "id": "dfHIkif3TuhQ",
        "colab_type": "code",
        "colab": {}
      },
      "source": [
        "# TODO: code to generate the frequency graph"
      ],
      "execution_count": 0,
      "outputs": []
    },
    {
      "cell_type": "markdown",
      "metadata": {
        "id": "y9ah7V5PTuhj",
        "colab_type": "text"
      },
      "source": [
        "Write your answer here"
      ]
    },
    {
      "cell_type": "markdown",
      "metadata": {
        "id": "4d42fYVPTuhm",
        "colab_type": "text"
      },
      "source": [
        "## Part 3 - Product Code"
      ]
    },
    {
      "cell_type": "code",
      "metadata": {
        "id": "qZTbOey2Tuho",
        "colab_type": "code",
        "outputId": "b0685609-867a-4d68-ffbc-6f2c15f6ab09",
        "colab": {
          "base_uri": "https://localhost:8080/",
          "height": 139
        }
      },
      "source": [
        "transactions.head()\n",
        "transactionsProdAmt = transactions[['TransactionID', 'TransactionAmt', 'ProductCD']]\n",
        "transactionsProdAmt.head()\n",
        "transactionsProdAmt['TransactionAmt'].value_counts()\n",
        "transactionsProdAmt.groupby('ProductCD')['TransactionAmt'].mean()"
      ],
      "execution_count": 0,
      "outputs": [
        {
          "output_type": "execute_result",
          "data": {
            "text/plain": [
              "ProductCD\n",
              "C     42.872353\n",
              "H     73.170058\n",
              "R    168.306188\n",
              "S     60.269487\n",
              "W    153.158554\n",
              "Name: TransactionAmt, dtype: float64"
            ]
          },
          "metadata": {
            "tags": []
          },
          "execution_count": 22
        }
      ]
    },
    {
      "cell_type": "markdown",
      "metadata": {
        "id": "2Cbpd72CTuhx",
        "colab_type": "text"
      },
      "source": [
        "The product code R corresponds to the most expensive products with the mean of all the amounts coming out to be 168.31\n",
        "\n",
        "The product code C corresponds to the least expensive products with the mean of 42.87"
      ]
    },
    {
      "cell_type": "markdown",
      "metadata": {
        "id": "CemAGsIOTuhz",
        "colab_type": "text"
      },
      "source": [
        "## Part 4 - Correlation Coefficient"
      ]
    },
    {
      "cell_type": "code",
      "metadata": {
        "id": "meonSH7ZTuh2",
        "colab_type": "code",
        "outputId": "ad01254e-c511-40c7-a416-7e4c3bfb82c5",
        "colab": {
          "base_uri": "https://localhost:8080/",
          "height": 387
        }
      },
      "source": [
        "# TODO: code to calculate correlation coefficient\n",
        "todAmt = transactions[['TransactionID', 'TransactionDT', 'addr2', 'TransactionAmt','ProductCD', 'isFraud', 'card6']]\n",
        "todAmt.head()\n",
        "todAmt['addr2'].value_counts()\n",
        "todAmt['TransactionDT'].value_counts()\n",
        "\n",
        "\n",
        "todAmt87 = todAmt[todAmt['addr2'] == 87.0]\n",
        "import matplotlib.pyplot as plt\n",
        " \n",
        "import numpy as np\n",
        "def make_hour_feature(df, tname='TransactionDT'):\n",
        "    hours = df[tname] / (3600)        \n",
        "    encoded_hours = np.floor(hours) % 24\n",
        "    return encoded_hours\n",
        "\n",
        "todAmt87['hours'] = make_hour_feature(todAmt87)\n",
        "plt.plot(todAmt87.groupby('hours')['TransactionAmt'].sum(), color='k')\n",
        "ax = plt.gca()\n",
        "ax2 = ax.twinx()\n",
        "_ = ax2.hist(todAmt87['hours'], alpha=0.3, bins=24)\n",
        "ax.set_xlabel('Encoded hour')\n",
        "ax.set_ylabel('Product Amount')\n",
        "ax2.set_ylabel('Number of transactions')\n",
        "\n",
        "from scipy.stats import pearsonr\n",
        "hour = []\n",
        "for i in range(24):\n",
        "  hour.append(i)\n",
        "todAmt87SumGB = todAmt87.groupby('hours')['TransactionAmt'].sum()\n",
        "todAmt87SumGB.describe()\n",
        "list(todAmt87SumGB)\n",
        "corr,_ = pearsonr(hour,todAmt87SumGB)\n",
        "print('Pearsons correlation considering sum of Transaction Amount: %.3f' % corr)\n"
      ],
      "execution_count": 0,
      "outputs": [
        {
          "output_type": "stream",
          "text": [
            "/usr/local/lib/python3.6/dist-packages/ipykernel_launcher.py:26: SettingWithCopyWarning: \n",
            "A value is trying to be set on a copy of a slice from a DataFrame.\n",
            "Try using .loc[row_indexer,col_indexer] = value instead\n",
            "\n",
            "See the caveats in the documentation: http://pandas.pydata.org/pandas-docs/stable/indexing.html#indexing-view-versus-copy\n"
          ],
          "name": "stderr"
        },
        {
          "output_type": "stream",
          "text": [
            "Pearsons correlation considering sum of Transaction Amount: 0.651\n"
          ],
          "name": "stdout"
        },
        {
          "output_type": "display_data",
          "data": {
            "image/png": "[encoded data removed]",
            "text/plain": [
              "<Figure size 432x288 with 2 Axes>"
            ]
          },
          "metadata": {
            "tags": []
          }
        }
      ]
    },
    {
      "cell_type": "code",
      "metadata": {
        "id": "DPyD9iWW1_YU",
        "colab_type": "code",
        "outputId": "7fc63964-8407-4d36-d421-1699b7da0e03",
        "colab": {
          "base_uri": "https://localhost:8080/",
          "height": 301
        }
      },
      "source": [
        "plt.plot(todAmt87.groupby('hours')['TransactionAmt'].mean(), color='k')\n",
        "axM = plt.gca()\n",
        "axM2 = axM.twinx()\n",
        "_ = axM2.hist(todAmt87['hours'], alpha=0.3, bins=24)\n",
        "axM.set_xlabel('Encoded hour')\n",
        "axM.set_ylabel('Product Amount')\n",
        "axM2.set_ylabel('Number of transactions')\n",
        "\n",
        "todAmt87MeanGB = todAmt87.groupby('hours')['TransactionAmt'].mean()\n",
        "todAmt87MeanGB.describe()\n",
        "list(todAmt87MeanGB)\n",
        "corr,_ = pearsonr(hour,todAmt87MeanGB)\n",
        "print('Pearsons correlation considering mean of Transaction Amount: %.3f' % corr)"
      ],
      "execution_count": 0,
      "outputs": [
        {
          "output_type": "stream",
          "text": [
            "Pearsons correlation considering mean of Transaction Amount: 0.756\n"
          ],
          "name": "stdout"
        },
        {
          "output_type": "display_data",
          "data": {
            "image/png": "[encoded data removed]",
            "text/plain": [
              "<Figure size 432x288 with 2 Axes>"
            ]
          },
          "metadata": {
            "tags": []
          }
        }
      ]
    },
    {
      "cell_type": "markdown",
      "metadata": {
        "id": "u2Lc8MrvTuh_",
        "colab_type": "text"
      },
      "source": [
        "Write your answer here"
      ]
    },
    {
      "cell_type": "markdown",
      "metadata": {
        "id": "W3CnlFWOTuiC",
        "colab_type": "text"
      },
      "source": [
        "## Part 5 - Interesting Plot"
      ]
    },
    {
      "cell_type": "code",
      "metadata": {
        "id": "Kji2nQf7TuiE",
        "colab_type": "code",
        "colab": {}
      },
      "source": [
        "# TODO: code to generate the plot here."
      ],
      "execution_count": 0,
      "outputs": []
    },
    {
      "cell_type": "markdown",
      "metadata": {
        "id": "_T3XCcvDTuiN",
        "colab_type": "text"
      },
      "source": [
        "The plots of time of day vs product is interesting and it's getting a correlation co-efficient of 0.65\n",
        "\n",
        "Also, the plost of card6 variable vs isFraud is interesting.\n",
        "The percentage of number of fraudulent transactions for credit card is almost double than that of debit card!!!!\n",
        "Beware credit card holders!\n"
      ]
    },
    {
      "cell_type": "markdown",
      "metadata": {
        "id": "rFWJsV7HTuiR",
        "colab_type": "text"
      },
      "source": [
        "## Part 6 - Prediction Model"
      ]
    },
    {
      "cell_type": "markdown",
      "metadata": {
        "id": "zZbZaehxTuij",
        "colab_type": "text"
      },
      "source": [
        "Write your answer here"
      ]
    },
    {
      "cell_type": "code",
      "metadata": {
        "id": "qJ489MH7TuiV",
        "colab_type": "code",
        "outputId": "980d4751-201d-4093-b7ac-2b671ffbc670",
        "colab": {
          "base_uri": "https://localhost:8080/",
          "height": 425
        }
      },
      "source": [
        "# TODO: code for your final model\n",
        "import seaborn as sns\n",
        "sns.countplot(x='isFraud',hue = 'card6', data=transactions)\n",
        "transactionAmtByFraudness = transactions.groupby('isFraud')['TransactionAmt'].sum()\n",
        "list(transactionAmtByFraudness)\n",
        "\n",
        "transactions.isnull().sum()\n",
        "transactions.groupby('isFraud').mean()\n",
        "\n",
        "from sklearn.model_selection import train_test_split\n",
        "cleanup_Prod = {\"ProductCD\":     {\"C\": 4, \"H\": 2, \"S\": 3, \"R\":4, \"W\":5}}\n",
        "cleanup_card6 = {\"card6\": {\"debit\":1, \"credit\":2, \"debit or credit\":3, \"charge card\": 4}}\n",
        "todAmtReplaced = todAmt87.replace(cleanup_Prod)\n",
        "feature_cols = ['TransactionAmt', 'hours', 'ProductCD']\n",
        "\n",
        "X = todAmtReplaced[feature_cols] # Features\n",
        "y = todAmtReplaced.isFraud # Target variable\n",
        "X_train,X_test,y_train,y_test=train_test_split(X,y,test_size=0.25,random_state=0)\n",
        "\n",
        "#split dataset in features and target variable\n",
        "\n",
        "from sklearn.linear_model import LogisticRegression\n",
        "\n",
        "# instantiate the model (using the default parameters)\n",
        "logreg = LogisticRegression()\n",
        "\n",
        "# fit the model with data\n",
        "logreg.fit(X_train,y_train)\n"
      ],
      "execution_count": 0,
      "outputs": [
        {
          "output_type": "stream",
          "text": [
            "/usr/local/lib/python3.6/dist-packages/sklearn/linear_model/logistic.py:432: FutureWarning: Default solver will be changed to 'lbfgs' in 0.22. Specify a solver to silence this warning.\n",
            "  FutureWarning)\n"
          ],
          "name": "stderr"
        },
        {
          "output_type": "execute_result",
          "data": {
            "text/plain": [
              "LogisticRegression(C=1.0, class_weight=None, dual=False, fit_intercept=True,\n",
              "                   intercept_scaling=1, l1_ratio=None, max_iter=100,\n",
              "                   multi_class='warn', n_jobs=None, penalty='l2',\n",
              "                   random_state=None, solver='warn', tol=0.0001, verbose=0,\n",
              "                   warm_start=False)"
            ]
          },
          "metadata": {
            "tags": []
          },
          "execution_count": 78
        },
        {
          "output_type": "display_data",
          "data": {
            "image/png": "[encoded data removed]",
            "text/plain": [
              "<Figure size 432x288 with 1 Axes>"
            ]
          },
          "metadata": {
            "tags": []
          }
        }
      ]
    },
    {
      "cell_type": "code",
      "metadata": {
        "id": "4jeWdMjB2Tb7",
        "colab_type": "code",
        "colab": {}
      },
      "source": [
        "todAmtReplaced['card6'].fillna(0, inplace=True)\n",
        "todAmtReplaced['card6'].isna().sum()\n",
        "transactions['DeviceType'].value_counts()"
      ],
      "execution_count": 0,
      "outputs": []
    },
    {
      "cell_type": "code",
      "metadata": {
        "id": "Q30WqDZwP5pV",
        "colab_type": "code",
        "colab": {}
      },
      "source": [
        "transactions_test = pd.read_csv('test_transaction.csv.zip')\n",
        "transactions_test.replace(cleanup_Prod, inplace=True)\n",
        "\n",
        "transactions_test['hours'] = make_hour_feature(transactions_test)\n",
        "cleanup_Prod = {\"ProductCD\":     {\"C\": 4, \"H\": 2, \"S\": 3, \"R\":4, \"W\":5}}"
      ],
      "execution_count": 0,
      "outputs": []
    },
    {
      "cell_type": "code",
      "metadata": {
        "id": "k46ABoT_-BHs",
        "colab_type": "code",
        "outputId": "ed797e50-f20f-45cb-8241-5c925696298f",
        "colab": {
          "base_uri": "https://localhost:8080/",
          "height": 202
        }
      },
      "source": [
        "transactions_test.head()\n",
        "transactions_test_columns = transactions_test[['TransactionAmt', 'hours', 'ProductCD']]\n",
        "transactions_test_columns.head()"
      ],
      "execution_count": 0,
      "outputs": [
        {
          "output_type": "execute_result",
          "data": {
            "text/html": [
              "<div>\n",
              "<style scoped>\n",
              "    .dataframe tbody tr th:only-of-type {\n",
              "        vertical-align: middle;\n",
              "    }\n",
              "\n",
              "    .dataframe tbody tr th {\n",
              "        vertical-align: top;\n",
              "    }\n",
              "\n",
              "    .dataframe thead th {\n",
              "        text-align: right;\n",
              "    }\n",
              "</style>\n",
              "<table border=\"1\" class=\"dataframe\">\n",
              "  <thead>\n",
              "    <tr style=\"text-align: right;\">\n",
              "      <th></th>\n",
              "      <th>TransactionAmt</th>\n",
              "      <th>hours</th>\n",
              "      <th>ProductCD</th>\n",
              "    </tr>\n",
              "  </thead>\n",
              "  <tbody>\n",
              "    <tr>\n",
              "      <th>0</th>\n",
              "      <td>31.95</td>\n",
              "      <td>0.0</td>\n",
              "      <td>5</td>\n",
              "    </tr>\n",
              "    <tr>\n",
              "      <th>1</th>\n",
              "      <td>49.00</td>\n",
              "      <td>0.0</td>\n",
              "      <td>5</td>\n",
              "    </tr>\n",
              "    <tr>\n",
              "      <th>2</th>\n",
              "      <td>171.00</td>\n",
              "      <td>0.0</td>\n",
              "      <td>5</td>\n",
              "    </tr>\n",
              "    <tr>\n",
              "      <th>3</th>\n",
              "      <td>284.95</td>\n",
              "      <td>0.0</td>\n",
              "      <td>5</td>\n",
              "    </tr>\n",
              "    <tr>\n",
              "      <th>4</th>\n",
              "      <td>67.95</td>\n",
              "      <td>0.0</td>\n",
              "      <td>5</td>\n",
              "    </tr>\n",
              "  </tbody>\n",
              "</table>\n",
              "</div>"
            ],
            "text/plain": [
              "   TransactionAmt  hours  ProductCD\n",
              "0           31.95    0.0          5\n",
              "1           49.00    0.0          5\n",
              "2          171.00    0.0          5\n",
              "3          284.95    0.0          5\n",
              "4           67.95    0.0          5"
            ]
          },
          "metadata": {
            "tags": []
          },
          "execution_count": 83
        }
      ]
    },
    {
      "cell_type": "code",
      "metadata": {
        "id": "kAHO4MGTqh-Z",
        "colab_type": "code",
        "outputId": "0450fb48-49b6-49ce-ffc9-70fb7057213d",
        "colab": {
          "base_uri": "https://localhost:8080/",
          "height": 202
        }
      },
      "source": [
        "y_pred=logreg.predict(transactions_test_columns)\n",
        "\n",
        "sampleSubmission = pd.read_csv(\"sample_submission.csv.zip\")\n",
        "sampleSubmission['isFraud'] = y_pred\n",
        "sampleSubmission.head()\n",
        "\n",
        "sampleSubmission.to_csv(\"sampleSubmission1.csv\")\n",
        "sampleSubmission.head()"
      ],
      "execution_count": 0,
      "outputs": [
        {
          "output_type": "execute_result",
          "data": {
            "text/html": [
              "<div>\n",
              "<style scoped>\n",
              "    .dataframe tbody tr th:only-of-type {\n",
              "        vertical-align: middle;\n",
              "    }\n",
              "\n",
              "    .dataframe tbody tr th {\n",
              "        vertical-align: top;\n",
              "    }\n",
              "\n",
              "    .dataframe thead th {\n",
              "        text-align: right;\n",
              "    }\n",
              "</style>\n",
              "<table border=\"1\" class=\"dataframe\">\n",
              "  <thead>\n",
              "    <tr style=\"text-align: right;\">\n",
              "      <th></th>\n",
              "      <th>TransactionID</th>\n",
              "      <th>isFraud</th>\n",
              "    </tr>\n",
              "  </thead>\n",
              "  <tbody>\n",
              "    <tr>\n",
              "      <th>0</th>\n",
              "      <td>3663549</td>\n",
              "      <td>0</td>\n",
              "    </tr>\n",
              "    <tr>\n",
              "      <th>1</th>\n",
              "      <td>3663550</td>\n",
              "      <td>0</td>\n",
              "    </tr>\n",
              "    <tr>\n",
              "      <th>2</th>\n",
              "      <td>3663551</td>\n",
              "      <td>0</td>\n",
              "    </tr>\n",
              "    <tr>\n",
              "      <th>3</th>\n",
              "      <td>3663552</td>\n",
              "      <td>0</td>\n",
              "    </tr>\n",
              "    <tr>\n",
              "      <th>4</th>\n",
              "      <td>3663553</td>\n",
              "      <td>0</td>\n",
              "    </tr>\n",
              "  </tbody>\n",
              "</table>\n",
              "</div>"
            ],
            "text/plain": [
              "   TransactionID  isFraud\n",
              "0        3663549        0\n",
              "1        3663550        0\n",
              "2        3663551        0\n",
              "3        3663552        0\n",
              "4        3663553        0"
            ]
          },
          "metadata": {
            "tags": []
          },
          "execution_count": 84
        }
      ]
    },
    {
      "cell_type": "markdown",
      "metadata": {
        "id": "jx51w8YTTuio",
        "colab_type": "text"
      },
      "source": [
        "## Part 7 - Final Result"
      ]
    },
    {
      "cell_type": "markdown",
      "metadata": {
        "id": "crc5--jlTui2",
        "colab_type": "text"
      },
      "source": [
        "**Score**: 0.88"
      ]
    }
  ]
}